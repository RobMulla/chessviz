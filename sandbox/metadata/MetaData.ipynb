{
 "cells": [
  {
   "cell_type": "markdown",
   "metadata": {},
   "source": [
    "# Meta Data Data Pull"
   ]
  },
  {
   "cell_type": "code",
   "execution_count": 1,
   "metadata": {
    "collapsed": true
   },
   "outputs": [],
   "source": [
    "import pandas as pd\n",
    "import wikipedia"
   ]
  },
  {
   "cell_type": "code",
   "execution_count": 8,
   "metadata": {
    "collapsed": true
   },
   "outputs": [],
   "source": [
    "gm = pd.read_excel('./gm_metadata.xlsx', parse_dates=['Birth Date','Year Grandmaster'])"
   ]
  },
  {
   "cell_type": "code",
   "execution_count": 10,
   "metadata": {
    "collapsed": false
   },
   "outputs": [
    {
     "data": {
      "text/html": [
       "<div>\n",
       "<style>\n",
       "    .dataframe thead tr:only-child th {\n",
       "        text-align: right;\n",
       "    }\n",
       "\n",
       "    .dataframe thead th {\n",
       "        text-align: left;\n",
       "    }\n",
       "\n",
       "    .dataframe tbody tr th {\n",
       "        vertical-align: top;\n",
       "    }\n",
       "</style>\n",
       "<table border=\"1\" class=\"dataframe\">\n",
       "  <thead>\n",
       "    <tr style=\"text-align: right;\">\n",
       "      <th></th>\n",
       "      <th>Info</th>\n",
       "      <th>Name-PGN-Site</th>\n",
       "      <th>PGN File</th>\n",
       "      <th>NameForJSON</th>\n",
       "      <th>First Name</th>\n",
       "      <th>Last Name</th>\n",
       "      <th>Wiki-FirstName</th>\n",
       "      <th>Wiki Name</th>\n",
       "      <th>Birth Date</th>\n",
       "      <th>Death Date</th>\n",
       "      <th>Year Grandmaster</th>\n",
       "      <th>Country</th>\n",
       "      <th>Wikipedia Page</th>\n",
       "      <th>Name For Wiki Search</th>\n",
       "      <th>Wikipedia Search Link</th>\n",
       "    </tr>\n",
       "  </thead>\n",
       "  <tbody>\n",
       "    <tr>\n",
       "      <th>0</th>\n",
       "      <td>Michael Adams, 2982 games</td>\n",
       "      <td>Michael Adams</td>\n",
       "      <td>Adams.pgn</td>\n",
       "      <td>Adams</td>\n",
       "      <td>Michael</td>\n",
       "      <td>Adams</td>\n",
       "      <td>Michael</td>\n",
       "      <td>Michael Adams</td>\n",
       "      <td>1971-11-17</td>\n",
       "      <td>NaT</td>\n",
       "      <td>1989-01-01</td>\n",
       "      <td>England</td>\n",
       "      <td>https://en.wikipedia.org/wiki/Michael_Adams_(c...</td>\n",
       "      <td>Michael+Adams+chess</td>\n",
       "      <td>https://en.wikipedia.org/w/index.php?search=Mi...</td>\n",
       "    </tr>\n",
       "    <tr>\n",
       "      <th>1</th>\n",
       "      <td>Varuzhan Akobian, 1115 games</td>\n",
       "      <td>Varuzhan Akobian</td>\n",
       "      <td>Akobian.pgn</td>\n",
       "      <td>Akobian</td>\n",
       "      <td>Varuzhan</td>\n",
       "      <td>Akobian</td>\n",
       "      <td>Varuzhan</td>\n",
       "      <td>Varuzhan Akobian</td>\n",
       "      <td>1983-11-19</td>\n",
       "      <td>NaT</td>\n",
       "      <td>2004-01-01</td>\n",
       "      <td>United States</td>\n",
       "      <td>https://en.wikipedia.org/wiki/Varuzhan_Akobian</td>\n",
       "      <td>Varuzhan+Akobian+chess</td>\n",
       "      <td>https://en.wikipedia.org/w/index.php?search=Va...</td>\n",
       "    </tr>\n",
       "    <tr>\n",
       "      <th>2</th>\n",
       "      <td>Vladimir Akopian, 1848 games</td>\n",
       "      <td>Vladimir Akopian</td>\n",
       "      <td>Akopian.pgn</td>\n",
       "      <td>Akopian</td>\n",
       "      <td>Vladimir</td>\n",
       "      <td>Akopian</td>\n",
       "      <td>Vladimir</td>\n",
       "      <td>Vladimir Akopian</td>\n",
       "      <td>1971-12-07</td>\n",
       "      <td>NaT</td>\n",
       "      <td>1991-01-01</td>\n",
       "      <td>Armenia</td>\n",
       "      <td>https://en.wikipedia.org/wiki/Vladimir_Akopian</td>\n",
       "      <td>Vladimir+Akopian+chess</td>\n",
       "      <td>https://en.wikipedia.org/w/index.php?search=Vl...</td>\n",
       "    </tr>\n",
       "    <tr>\n",
       "      <th>3</th>\n",
       "      <td>Lev Alburt, 776 games</td>\n",
       "      <td>Lev Alburt</td>\n",
       "      <td>Alburt.pgn</td>\n",
       "      <td>Alburt</td>\n",
       "      <td>Lev</td>\n",
       "      <td>Alburt</td>\n",
       "      <td>Lev</td>\n",
       "      <td>Lev Alburt</td>\n",
       "      <td>1945-08-21</td>\n",
       "      <td>NaT</td>\n",
       "      <td>1977-01-01</td>\n",
       "      <td>United States</td>\n",
       "      <td>https://en.wikipedia.org/wiki/Lev_Alburt</td>\n",
       "      <td>Lev+Alburt+chess</td>\n",
       "      <td>https://en.wikipedia.org/w/index.php?search=Le...</td>\n",
       "    </tr>\n",
       "    <tr>\n",
       "      <th>4</th>\n",
       "      <td>Alexander Alekhine, 1661 games</td>\n",
       "      <td>Alexander Alekhine</td>\n",
       "      <td>Alekhine.pgn</td>\n",
       "      <td>Alekhine</td>\n",
       "      <td>Alexander</td>\n",
       "      <td>Alekhine</td>\n",
       "      <td>NaN</td>\n",
       "      <td>NaN</td>\n",
       "      <td>NaT</td>\n",
       "      <td>NaT</td>\n",
       "      <td>NaT</td>\n",
       "      <td>NaN</td>\n",
       "      <td>NaN</td>\n",
       "      <td>Alexander+Alekhine+chess</td>\n",
       "      <td>https://en.wikipedia.org/w/index.php?search=Al...</td>\n",
       "    </tr>\n",
       "  </tbody>\n",
       "</table>\n",
       "</div>"
      ],
      "text/plain": [
       "                             Info       Name-PGN-Site      PGN File  \\\n",
       "0       Michael Adams, 2982 games       Michael Adams     Adams.pgn   \n",
       "1    Varuzhan Akobian, 1115 games    Varuzhan Akobian   Akobian.pgn   \n",
       "2    Vladimir Akopian, 1848 games    Vladimir Akopian   Akopian.pgn   \n",
       "3           Lev Alburt, 776 games          Lev Alburt    Alburt.pgn   \n",
       "4  Alexander Alekhine, 1661 games  Alexander Alekhine  Alekhine.pgn   \n",
       "\n",
       "  NameForJSON First Name Last Name Wiki-FirstName          Wiki Name  \\\n",
       "0       Adams    Michael     Adams        Michael      Michael Adams   \n",
       "1     Akobian   Varuzhan   Akobian       Varuzhan  Varuzhan Akobian    \n",
       "2     Akopian   Vladimir   Akopian       Vladimir  Vladimir Akopian    \n",
       "3      Alburt        Lev    Alburt            Lev        Lev Alburt    \n",
       "4    Alekhine  Alexander  Alekhine            NaN                NaN   \n",
       "\n",
       "  Birth Date Death Date Year Grandmaster         Country  \\\n",
       "0 1971-11-17        NaT       1989-01-01         England   \n",
       "1 1983-11-19        NaT       2004-01-01   United States   \n",
       "2 1971-12-07        NaT       1991-01-01         Armenia   \n",
       "3 1945-08-21        NaT       1977-01-01   United States   \n",
       "4        NaT        NaT              NaT             NaN   \n",
       "\n",
       "                                      Wikipedia Page  \\\n",
       "0  https://en.wikipedia.org/wiki/Michael_Adams_(c...   \n",
       "1     https://en.wikipedia.org/wiki/Varuzhan_Akobian   \n",
       "2     https://en.wikipedia.org/wiki/Vladimir_Akopian   \n",
       "3           https://en.wikipedia.org/wiki/Lev_Alburt   \n",
       "4                                                NaN   \n",
       "\n",
       "       Name For Wiki Search                              Wikipedia Search Link  \n",
       "0       Michael+Adams+chess  https://en.wikipedia.org/w/index.php?search=Mi...  \n",
       "1    Varuzhan+Akobian+chess  https://en.wikipedia.org/w/index.php?search=Va...  \n",
       "2    Vladimir+Akopian+chess  https://en.wikipedia.org/w/index.php?search=Vl...  \n",
       "3          Lev+Alburt+chess  https://en.wikipedia.org/w/index.php?search=Le...  \n",
       "4  Alexander+Alekhine+chess  https://en.wikipedia.org/w/index.php?search=Al...  "
      ]
     },
     "execution_count": 10,
     "metadata": {},
     "output_type": "execute_result"
    }
   ],
   "source": [
    "gm.head()"
   ]
  },
  {
   "cell_type": "code",
   "execution_count": 20,
   "metadata": {
    "collapsed": false
   },
   "outputs": [
    {
     "ename": "NameError",
     "evalue": "name 'chess' is not defined",
     "output_type": "error",
     "traceback": [
      "\u001b[0;31m---------------------------------------------------------------------------\u001b[0m",
      "\u001b[0;31mNameError\u001b[0m                                 Traceback (most recent call last)",
      "\u001b[0;32m<ipython-input-20-4a8e16c0a11f>\u001b[0m in \u001b[0;36m<module>\u001b[0;34m()\u001b[0m\n\u001b[0;32m----> 1\u001b[0;31m \u001b[0mgm\u001b[0m\u001b[0;34m[\u001b[0m\u001b[0;34m'Name-PGN-Site'\u001b[0m\u001b[0;34m+\u001b[0m\u001b[0mchess\u001b[0m\u001b[0;34m]\u001b[0m\u001b[0;34m[\u001b[0m\u001b[0;36m0\u001b[0m\u001b[0;34m]\u001b[0m\u001b[0;34m\u001b[0m\u001b[0m\n\u001b[0m",
      "\u001b[0;31mNameError\u001b[0m: name 'chess' is not defined"
     ]
    }
   ],
   "source": [
    "gm['Name-PGN-Site'][0]"
   ]
  },
  {
   "cell_type": "code",
   "execution_count": 32,
   "metadata": {
    "collapsed": true
   },
   "outputs": [],
   "source": [
    "first_player = wikipedia.search(gm['Name-PGN-Site'][0]+' chess')"
   ]
  },
  {
   "cell_type": "code",
   "execution_count": 37,
   "metadata": {
    "collapsed": false
   },
   "outputs": [
    {
     "data": {
      "text/plain": [
       "'https://en.wikipedia.org/wiki/Michael_Adams_(chess_player)'"
      ]
     },
     "execution_count": 37,
     "metadata": {},
     "output_type": "execute_result"
    }
   ],
   "source": [
    "wikipedia.page(first_player[1]).url"
   ]
  },
  {
   "cell_type": "code",
   "execution_count": 38,
   "metadata": {
    "collapsed": false
   },
   "outputs": [
    {
     "data": {
      "text/plain": [
       "'Michael Adams (chess player)'"
      ]
     },
     "execution_count": 38,
     "metadata": {},
     "output_type": "execute_result"
    }
   ],
   "source": [
    "wikipedia.page(first_player[1]).title"
   ]
  },
  {
   "cell_type": "code",
   "execution_count": 41,
   "metadata": {
    "collapsed": false
   },
   "outputs": [
    {
     "data": {
      "text/plain": [
       "'Michael Adams (born 17 November 1971) is an English chess Grandmaster (1989). His highest ranking is world No. 4, achieved several times from October 2000 to October 2002. His peak Elo rating is 2761.\\nHe has achieved good results in World Chess Championship tournaments. Several times a World Championship Candidate, he reached the semifinals in 1997, 1999 and 2000. At the 2004 FIDE Championship, he reached the final, narrowly losing out to Rustam Kasimdzhanov in the tie-break games.'"
      ]
     },
     "execution_count": 41,
     "metadata": {},
     "output_type": "execute_result"
    }
   ],
   "source": [
    "wikipedia.page(first_player[1]).summary"
   ]
  },
  {
   "cell_type": "code",
   "execution_count": 43,
   "metadata": {
    "collapsed": true
   },
   "outputs": [],
   "source": [
    "wikipedia_searcher = lambda x: wikipedia.search(x)"
   ]
  },
  {
   "cell_type": "code",
   "execution_count": 48,
   "metadata": {
    "collapsed": true
   },
   "outputs": [],
   "source": [
    "gm['Wiki Search Results'] = gm['Name-PGN-Site'].apply(wikipedia_searcher)"
   ]
  },
  {
   "cell_type": "code",
   "execution_count": 56,
   "metadata": {
    "collapsed": true
   },
   "outputs": [],
   "source": [
    "get_first_result = lambda x: x[0]"
   ]
  },
  {
   "cell_type": "code",
   "execution_count": 58,
   "metadata": {
    "collapsed": true
   },
   "outputs": [],
   "source": [
    "gm['First Wiki Result'] = gm['Wiki Search Results'].apply(get_first_result)"
   ]
  },
  {
   "cell_type": "code",
   "execution_count": 71,
   "metadata": {
    "collapsed": true
   },
   "outputs": [],
   "source": [
    "def getlink(x):\n",
    "    try:\n",
    "        url = wikipedia.page(x).url\n",
    "    except:\n",
    "        url = ''\n",
    "    return url"
   ]
  },
  {
   "cell_type": "code",
   "execution_count": 73,
   "metadata": {
    "collapsed": false
   },
   "outputs": [
    {
     "name": "stderr",
     "output_type": "stream",
     "text": [
      "/Users/rmull710/anaconda3/lib/python3.6/site-packages/bs4/__init__.py:181: UserWarning: No parser was explicitly specified, so I'm using the best available HTML parser for this system (\"lxml\"). This usually isn't a problem, but if you run this code on another system, or in a different virtual environment, it may use a different parser and behave differently.\n",
      "\n",
      "The code that caused this warning is on line 193 of the file /Users/rmull710/anaconda3/lib/python3.6/runpy.py. To get rid of this warning, change code that looks like this:\n",
      "\n",
      " BeautifulSoup(YOUR_MARKUP})\n",
      "\n",
      "to this:\n",
      "\n",
      " BeautifulSoup(YOUR_MARKUP, \"lxml\")\n",
      "\n",
      "  markup_type=markup_type))\n"
     ]
    }
   ],
   "source": [
    "gm['wiki_url'] = gm['First Wiki Result'].apply(getlink)"
   ]
  },
  {
   "cell_type": "code",
   "execution_count": 74,
   "metadata": {
    "collapsed": false
   },
   "outputs": [
    {
     "data": {
      "text/html": [
       "<div>\n",
       "<style>\n",
       "    .dataframe thead tr:only-child th {\n",
       "        text-align: right;\n",
       "    }\n",
       "\n",
       "    .dataframe thead th {\n",
       "        text-align: left;\n",
       "    }\n",
       "\n",
       "    .dataframe tbody tr th {\n",
       "        vertical-align: top;\n",
       "    }\n",
       "</style>\n",
       "<table border=\"1\" class=\"dataframe\">\n",
       "  <thead>\n",
       "    <tr style=\"text-align: right;\">\n",
       "      <th></th>\n",
       "      <th>Info</th>\n",
       "      <th>Name-PGN-Site</th>\n",
       "      <th>PGN File</th>\n",
       "      <th>NameForJSON</th>\n",
       "      <th>First Name</th>\n",
       "      <th>Last Name</th>\n",
       "      <th>Wiki-FirstName</th>\n",
       "      <th>Wiki Name</th>\n",
       "      <th>Birth Date</th>\n",
       "      <th>Death Date</th>\n",
       "      <th>Year Grandmaster</th>\n",
       "      <th>Country</th>\n",
       "      <th>Wikipedia Page</th>\n",
       "      <th>Name For Wiki Search</th>\n",
       "      <th>Wikipedia Search Link</th>\n",
       "      <th>Wiki Search Results</th>\n",
       "      <th>First Wiki Result</th>\n",
       "      <th>wiki_url</th>\n",
       "    </tr>\n",
       "  </thead>\n",
       "  <tbody>\n",
       "    <tr>\n",
       "      <th>0</th>\n",
       "      <td>Michael Adams, 2982 games</td>\n",
       "      <td>Michael Adams</td>\n",
       "      <td>Adams.pgn</td>\n",
       "      <td>Adams</td>\n",
       "      <td>Michael</td>\n",
       "      <td>Adams</td>\n",
       "      <td>Michael</td>\n",
       "      <td>Michael Adams</td>\n",
       "      <td>1971-11-17</td>\n",
       "      <td>NaT</td>\n",
       "      <td>1989-01-01</td>\n",
       "      <td>England</td>\n",
       "      <td>https://en.wikipedia.org/wiki/Michael_Adams_(c...</td>\n",
       "      <td>Michael+Adams+chess</td>\n",
       "      <td>https://en.wikipedia.org/w/index.php?search=Mi...</td>\n",
       "      <td>[Michael Adams, Michael Adams (politician), Mi...</td>\n",
       "      <td>Michael Adams</td>\n",
       "      <td></td>\n",
       "    </tr>\n",
       "    <tr>\n",
       "      <th>1</th>\n",
       "      <td>Varuzhan Akobian, 1115 games</td>\n",
       "      <td>Varuzhan Akobian</td>\n",
       "      <td>Akobian.pgn</td>\n",
       "      <td>Akobian</td>\n",
       "      <td>Varuzhan</td>\n",
       "      <td>Akobian</td>\n",
       "      <td>Varuzhan</td>\n",
       "      <td>Varuzhan Akobian</td>\n",
       "      <td>1983-11-19</td>\n",
       "      <td>NaT</td>\n",
       "      <td>2004-01-01</td>\n",
       "      <td>United States</td>\n",
       "      <td>https://en.wikipedia.org/wiki/Varuzhan_Akobian</td>\n",
       "      <td>Varuzhan+Akobian+chess</td>\n",
       "      <td>https://en.wikipedia.org/w/index.php?search=Va...</td>\n",
       "      <td>[Varuzhan Akobian, Varuzhan, Alexander Ivanov ...</td>\n",
       "      <td>Varuzhan Akobian</td>\n",
       "      <td>https://en.wikipedia.org/wiki/Varuzhan_Akobian</td>\n",
       "    </tr>\n",
       "    <tr>\n",
       "      <th>2</th>\n",
       "      <td>Vladimir Akopian, 1848 games</td>\n",
       "      <td>Vladimir Akopian</td>\n",
       "      <td>Akopian.pgn</td>\n",
       "      <td>Akopian</td>\n",
       "      <td>Vladimir</td>\n",
       "      <td>Akopian</td>\n",
       "      <td>Vladimir</td>\n",
       "      <td>Vladimir Akopian</td>\n",
       "      <td>1971-12-07</td>\n",
       "      <td>NaT</td>\n",
       "      <td>1991-01-01</td>\n",
       "      <td>Armenia</td>\n",
       "      <td>https://en.wikipedia.org/wiki/Vladimir_Akopian</td>\n",
       "      <td>Vladimir+Akopian+chess</td>\n",
       "      <td>https://en.wikipedia.org/w/index.php?search=Vl...</td>\n",
       "      <td>[Vladimir Akopian, Vladimir Epishin, Hakobyan,...</td>\n",
       "      <td>Vladimir Akopian</td>\n",
       "      <td>https://en.wikipedia.org/wiki/Vladimir_Akopian</td>\n",
       "    </tr>\n",
       "    <tr>\n",
       "      <th>3</th>\n",
       "      <td>Lev Alburt, 776 games</td>\n",
       "      <td>Lev Alburt</td>\n",
       "      <td>Alburt.pgn</td>\n",
       "      <td>Alburt</td>\n",
       "      <td>Lev</td>\n",
       "      <td>Alburt</td>\n",
       "      <td>Lev</td>\n",
       "      <td>Lev Alburt</td>\n",
       "      <td>1945-08-21</td>\n",
       "      <td>NaT</td>\n",
       "      <td>1977-01-01</td>\n",
       "      <td>United States</td>\n",
       "      <td>https://en.wikipedia.org/wiki/Lev_Alburt</td>\n",
       "      <td>Lev+Alburt+chess</td>\n",
       "      <td>https://en.wikipedia.org/w/index.php?search=Le...</td>\n",
       "      <td>[Lev Alburt, Roman Pelts, Eugene Perelshteyn, ...</td>\n",
       "      <td>Lev Alburt</td>\n",
       "      <td>https://en.wikipedia.org/wiki/Lev_Alburt</td>\n",
       "    </tr>\n",
       "    <tr>\n",
       "      <th>4</th>\n",
       "      <td>Alexander Alekhine, 1661 games</td>\n",
       "      <td>Alexander Alekhine</td>\n",
       "      <td>Alekhine.pgn</td>\n",
       "      <td>Alekhine</td>\n",
       "      <td>Alexander</td>\n",
       "      <td>Alekhine</td>\n",
       "      <td>NaN</td>\n",
       "      <td>NaN</td>\n",
       "      <td>NaT</td>\n",
       "      <td>NaT</td>\n",
       "      <td>NaT</td>\n",
       "      <td>NaN</td>\n",
       "      <td>NaN</td>\n",
       "      <td>Alexander+Alekhine+chess</td>\n",
       "      <td>https://en.wikipedia.org/w/index.php?search=Al...</td>\n",
       "      <td>[Alexander Alekhine, Alekhine Memorial, Alekhi...</td>\n",
       "      <td>Alexander Alekhine</td>\n",
       "      <td>https://en.wikipedia.org/wiki/Alexander_Alekhine</td>\n",
       "    </tr>\n",
       "  </tbody>\n",
       "</table>\n",
       "</div>"
      ],
      "text/plain": [
       "                             Info       Name-PGN-Site      PGN File  \\\n",
       "0       Michael Adams, 2982 games       Michael Adams     Adams.pgn   \n",
       "1    Varuzhan Akobian, 1115 games    Varuzhan Akobian   Akobian.pgn   \n",
       "2    Vladimir Akopian, 1848 games    Vladimir Akopian   Akopian.pgn   \n",
       "3           Lev Alburt, 776 games          Lev Alburt    Alburt.pgn   \n",
       "4  Alexander Alekhine, 1661 games  Alexander Alekhine  Alekhine.pgn   \n",
       "\n",
       "  NameForJSON First Name Last Name Wiki-FirstName          Wiki Name  \\\n",
       "0       Adams    Michael     Adams        Michael      Michael Adams   \n",
       "1     Akobian   Varuzhan   Akobian       Varuzhan  Varuzhan Akobian    \n",
       "2     Akopian   Vladimir   Akopian       Vladimir  Vladimir Akopian    \n",
       "3      Alburt        Lev    Alburt            Lev        Lev Alburt    \n",
       "4    Alekhine  Alexander  Alekhine            NaN                NaN   \n",
       "\n",
       "  Birth Date Death Date Year Grandmaster         Country  \\\n",
       "0 1971-11-17        NaT       1989-01-01         England   \n",
       "1 1983-11-19        NaT       2004-01-01   United States   \n",
       "2 1971-12-07        NaT       1991-01-01         Armenia   \n",
       "3 1945-08-21        NaT       1977-01-01   United States   \n",
       "4        NaT        NaT              NaT             NaN   \n",
       "\n",
       "                                      Wikipedia Page  \\\n",
       "0  https://en.wikipedia.org/wiki/Michael_Adams_(c...   \n",
       "1     https://en.wikipedia.org/wiki/Varuzhan_Akobian   \n",
       "2     https://en.wikipedia.org/wiki/Vladimir_Akopian   \n",
       "3           https://en.wikipedia.org/wiki/Lev_Alburt   \n",
       "4                                                NaN   \n",
       "\n",
       "       Name For Wiki Search  \\\n",
       "0       Michael+Adams+chess   \n",
       "1    Varuzhan+Akobian+chess   \n",
       "2    Vladimir+Akopian+chess   \n",
       "3          Lev+Alburt+chess   \n",
       "4  Alexander+Alekhine+chess   \n",
       "\n",
       "                               Wikipedia Search Link  \\\n",
       "0  https://en.wikipedia.org/w/index.php?search=Mi...   \n",
       "1  https://en.wikipedia.org/w/index.php?search=Va...   \n",
       "2  https://en.wikipedia.org/w/index.php?search=Vl...   \n",
       "3  https://en.wikipedia.org/w/index.php?search=Le...   \n",
       "4  https://en.wikipedia.org/w/index.php?search=Al...   \n",
       "\n",
       "                                 Wiki Search Results   First Wiki Result  \\\n",
       "0  [Michael Adams, Michael Adams (politician), Mi...       Michael Adams   \n",
       "1  [Varuzhan Akobian, Varuzhan, Alexander Ivanov ...    Varuzhan Akobian   \n",
       "2  [Vladimir Akopian, Vladimir Epishin, Hakobyan,...    Vladimir Akopian   \n",
       "3  [Lev Alburt, Roman Pelts, Eugene Perelshteyn, ...          Lev Alburt   \n",
       "4  [Alexander Alekhine, Alekhine Memorial, Alekhi...  Alexander Alekhine   \n",
       "\n",
       "                                           wiki_url  \n",
       "0                                                    \n",
       "1    https://en.wikipedia.org/wiki/Varuzhan_Akobian  \n",
       "2    https://en.wikipedia.org/wiki/Vladimir_Akopian  \n",
       "3          https://en.wikipedia.org/wiki/Lev_Alburt  \n",
       "4  https://en.wikipedia.org/wiki/Alexander_Alekhine  "
      ]
     },
     "execution_count": 74,
     "metadata": {},
     "output_type": "execute_result"
    }
   ],
   "source": [
    "gm.head()"
   ]
  },
  {
   "cell_type": "code",
   "execution_count": 75,
   "metadata": {
    "collapsed": true
   },
   "outputs": [],
   "source": [
    "def getsummary(x):\n",
    "    try:\n",
    "        summary = wikipedia.page(x).summary\n",
    "    except:\n",
    "        summary = ''\n",
    "    return summary"
   ]
  },
  {
   "cell_type": "code",
   "execution_count": 76,
   "metadata": {
    "collapsed": false
   },
   "outputs": [
    {
     "name": "stderr",
     "output_type": "stream",
     "text": [
      "/Users/rmull710/anaconda3/lib/python3.6/site-packages/bs4/__init__.py:181: UserWarning: No parser was explicitly specified, so I'm using the best available HTML parser for this system (\"lxml\"). This usually isn't a problem, but if you run this code on another system, or in a different virtual environment, it may use a different parser and behave differently.\n",
      "\n",
      "The code that caused this warning is on line 193 of the file /Users/rmull710/anaconda3/lib/python3.6/runpy.py. To get rid of this warning, change code that looks like this:\n",
      "\n",
      " BeautifulSoup(YOUR_MARKUP})\n",
      "\n",
      "to this:\n",
      "\n",
      " BeautifulSoup(YOUR_MARKUP, \"lxml\")\n",
      "\n",
      "  markup_type=markup_type))\n"
     ]
    }
   ],
   "source": [
    "gm['wiki_summary'] = gm['First Wiki Result'].apply(getsummary)"
   ]
  },
  {
   "cell_type": "code",
   "execution_count": 77,
   "metadata": {
    "collapsed": false
   },
   "outputs": [
    {
     "data": {
      "text/html": [
       "<div>\n",
       "<style>\n",
       "    .dataframe thead tr:only-child th {\n",
       "        text-align: right;\n",
       "    }\n",
       "\n",
       "    .dataframe thead th {\n",
       "        text-align: left;\n",
       "    }\n",
       "\n",
       "    .dataframe tbody tr th {\n",
       "        vertical-align: top;\n",
       "    }\n",
       "</style>\n",
       "<table border=\"1\" class=\"dataframe\">\n",
       "  <thead>\n",
       "    <tr style=\"text-align: right;\">\n",
       "      <th></th>\n",
       "      <th>Info</th>\n",
       "      <th>Name-PGN-Site</th>\n",
       "      <th>PGN File</th>\n",
       "      <th>NameForJSON</th>\n",
       "      <th>First Name</th>\n",
       "      <th>Last Name</th>\n",
       "      <th>Wiki-FirstName</th>\n",
       "      <th>Wiki Name</th>\n",
       "      <th>Birth Date</th>\n",
       "      <th>Death Date</th>\n",
       "      <th>Year Grandmaster</th>\n",
       "      <th>Country</th>\n",
       "      <th>Wikipedia Page</th>\n",
       "      <th>Name For Wiki Search</th>\n",
       "      <th>Wikipedia Search Link</th>\n",
       "      <th>Wiki Search Results</th>\n",
       "      <th>First Wiki Result</th>\n",
       "      <th>wiki_url</th>\n",
       "      <th>wiki_summary</th>\n",
       "    </tr>\n",
       "  </thead>\n",
       "  <tbody>\n",
       "    <tr>\n",
       "      <th>0</th>\n",
       "      <td>Michael Adams, 2982 games</td>\n",
       "      <td>Michael Adams</td>\n",
       "      <td>Adams.pgn</td>\n",
       "      <td>Adams</td>\n",
       "      <td>Michael</td>\n",
       "      <td>Adams</td>\n",
       "      <td>Michael</td>\n",
       "      <td>Michael Adams</td>\n",
       "      <td>1971-11-17</td>\n",
       "      <td>NaT</td>\n",
       "      <td>1989-01-01</td>\n",
       "      <td>England</td>\n",
       "      <td>https://en.wikipedia.org/wiki/Michael_Adams_(c...</td>\n",
       "      <td>Michael+Adams+chess</td>\n",
       "      <td>https://en.wikipedia.org/w/index.php?search=Mi...</td>\n",
       "      <td>[Michael Adams, Michael Adams (politician), Mi...</td>\n",
       "      <td>Michael Adams</td>\n",
       "      <td></td>\n",
       "      <td></td>\n",
       "    </tr>\n",
       "    <tr>\n",
       "      <th>1</th>\n",
       "      <td>Varuzhan Akobian, 1115 games</td>\n",
       "      <td>Varuzhan Akobian</td>\n",
       "      <td>Akobian.pgn</td>\n",
       "      <td>Akobian</td>\n",
       "      <td>Varuzhan</td>\n",
       "      <td>Akobian</td>\n",
       "      <td>Varuzhan</td>\n",
       "      <td>Varuzhan Akobian</td>\n",
       "      <td>1983-11-19</td>\n",
       "      <td>NaT</td>\n",
       "      <td>2004-01-01</td>\n",
       "      <td>United States</td>\n",
       "      <td>https://en.wikipedia.org/wiki/Varuzhan_Akobian</td>\n",
       "      <td>Varuzhan+Akobian+chess</td>\n",
       "      <td>https://en.wikipedia.org/w/index.php?search=Va...</td>\n",
       "      <td>[Varuzhan Akobian, Varuzhan, Alexander Ivanov ...</td>\n",
       "      <td>Varuzhan Akobian</td>\n",
       "      <td>https://en.wikipedia.org/wiki/Varuzhan_Akobian</td>\n",
       "      <td>Varuzhan Akobian (born November 19, 1983 in Ye...</td>\n",
       "    </tr>\n",
       "    <tr>\n",
       "      <th>2</th>\n",
       "      <td>Vladimir Akopian, 1848 games</td>\n",
       "      <td>Vladimir Akopian</td>\n",
       "      <td>Akopian.pgn</td>\n",
       "      <td>Akopian</td>\n",
       "      <td>Vladimir</td>\n",
       "      <td>Akopian</td>\n",
       "      <td>Vladimir</td>\n",
       "      <td>Vladimir Akopian</td>\n",
       "      <td>1971-12-07</td>\n",
       "      <td>NaT</td>\n",
       "      <td>1991-01-01</td>\n",
       "      <td>Armenia</td>\n",
       "      <td>https://en.wikipedia.org/wiki/Vladimir_Akopian</td>\n",
       "      <td>Vladimir+Akopian+chess</td>\n",
       "      <td>https://en.wikipedia.org/w/index.php?search=Vl...</td>\n",
       "      <td>[Vladimir Akopian, Vladimir Epishin, Hakobyan,...</td>\n",
       "      <td>Vladimir Akopian</td>\n",
       "      <td>https://en.wikipedia.org/wiki/Vladimir_Akopian</td>\n",
       "      <td>`Vladimir Akopian (Russian: Владимир Акопян; b...</td>\n",
       "    </tr>\n",
       "    <tr>\n",
       "      <th>3</th>\n",
       "      <td>Lev Alburt, 776 games</td>\n",
       "      <td>Lev Alburt</td>\n",
       "      <td>Alburt.pgn</td>\n",
       "      <td>Alburt</td>\n",
       "      <td>Lev</td>\n",
       "      <td>Alburt</td>\n",
       "      <td>Lev</td>\n",
       "      <td>Lev Alburt</td>\n",
       "      <td>1945-08-21</td>\n",
       "      <td>NaT</td>\n",
       "      <td>1977-01-01</td>\n",
       "      <td>United States</td>\n",
       "      <td>https://en.wikipedia.org/wiki/Lev_Alburt</td>\n",
       "      <td>Lev+Alburt+chess</td>\n",
       "      <td>https://en.wikipedia.org/w/index.php?search=Le...</td>\n",
       "      <td>[Lev Alburt, Roman Pelts, Eugene Perelshteyn, ...</td>\n",
       "      <td>Lev Alburt</td>\n",
       "      <td>https://en.wikipedia.org/wiki/Lev_Alburt</td>\n",
       "      <td>Lev Osipovich Alburt (born August 21, 1945 in ...</td>\n",
       "    </tr>\n",
       "    <tr>\n",
       "      <th>4</th>\n",
       "      <td>Alexander Alekhine, 1661 games</td>\n",
       "      <td>Alexander Alekhine</td>\n",
       "      <td>Alekhine.pgn</td>\n",
       "      <td>Alekhine</td>\n",
       "      <td>Alexander</td>\n",
       "      <td>Alekhine</td>\n",
       "      <td>NaN</td>\n",
       "      <td>NaN</td>\n",
       "      <td>NaT</td>\n",
       "      <td>NaT</td>\n",
       "      <td>NaT</td>\n",
       "      <td>NaN</td>\n",
       "      <td>NaN</td>\n",
       "      <td>Alexander+Alekhine+chess</td>\n",
       "      <td>https://en.wikipedia.org/w/index.php?search=Al...</td>\n",
       "      <td>[Alexander Alekhine, Alekhine Memorial, Alekhi...</td>\n",
       "      <td>Alexander Alekhine</td>\n",
       "      <td>https://en.wikipedia.org/wiki/Alexander_Alekhine</td>\n",
       "      <td>Alexander Alekhine (Russian: Алекса́ндр Алекса...</td>\n",
       "    </tr>\n",
       "  </tbody>\n",
       "</table>\n",
       "</div>"
      ],
      "text/plain": [
       "                             Info       Name-PGN-Site      PGN File  \\\n",
       "0       Michael Adams, 2982 games       Michael Adams     Adams.pgn   \n",
       "1    Varuzhan Akobian, 1115 games    Varuzhan Akobian   Akobian.pgn   \n",
       "2    Vladimir Akopian, 1848 games    Vladimir Akopian   Akopian.pgn   \n",
       "3           Lev Alburt, 776 games          Lev Alburt    Alburt.pgn   \n",
       "4  Alexander Alekhine, 1661 games  Alexander Alekhine  Alekhine.pgn   \n",
       "\n",
       "  NameForJSON First Name Last Name Wiki-FirstName          Wiki Name  \\\n",
       "0       Adams    Michael     Adams        Michael      Michael Adams   \n",
       "1     Akobian   Varuzhan   Akobian       Varuzhan  Varuzhan Akobian    \n",
       "2     Akopian   Vladimir   Akopian       Vladimir  Vladimir Akopian    \n",
       "3      Alburt        Lev    Alburt            Lev        Lev Alburt    \n",
       "4    Alekhine  Alexander  Alekhine            NaN                NaN   \n",
       "\n",
       "  Birth Date Death Date Year Grandmaster         Country  \\\n",
       "0 1971-11-17        NaT       1989-01-01         England   \n",
       "1 1983-11-19        NaT       2004-01-01   United States   \n",
       "2 1971-12-07        NaT       1991-01-01         Armenia   \n",
       "3 1945-08-21        NaT       1977-01-01   United States   \n",
       "4        NaT        NaT              NaT             NaN   \n",
       "\n",
       "                                      Wikipedia Page  \\\n",
       "0  https://en.wikipedia.org/wiki/Michael_Adams_(c...   \n",
       "1     https://en.wikipedia.org/wiki/Varuzhan_Akobian   \n",
       "2     https://en.wikipedia.org/wiki/Vladimir_Akopian   \n",
       "3           https://en.wikipedia.org/wiki/Lev_Alburt   \n",
       "4                                                NaN   \n",
       "\n",
       "       Name For Wiki Search  \\\n",
       "0       Michael+Adams+chess   \n",
       "1    Varuzhan+Akobian+chess   \n",
       "2    Vladimir+Akopian+chess   \n",
       "3          Lev+Alburt+chess   \n",
       "4  Alexander+Alekhine+chess   \n",
       "\n",
       "                               Wikipedia Search Link  \\\n",
       "0  https://en.wikipedia.org/w/index.php?search=Mi...   \n",
       "1  https://en.wikipedia.org/w/index.php?search=Va...   \n",
       "2  https://en.wikipedia.org/w/index.php?search=Vl...   \n",
       "3  https://en.wikipedia.org/w/index.php?search=Le...   \n",
       "4  https://en.wikipedia.org/w/index.php?search=Al...   \n",
       "\n",
       "                                 Wiki Search Results   First Wiki Result  \\\n",
       "0  [Michael Adams, Michael Adams (politician), Mi...       Michael Adams   \n",
       "1  [Varuzhan Akobian, Varuzhan, Alexander Ivanov ...    Varuzhan Akobian   \n",
       "2  [Vladimir Akopian, Vladimir Epishin, Hakobyan,...    Vladimir Akopian   \n",
       "3  [Lev Alburt, Roman Pelts, Eugene Perelshteyn, ...          Lev Alburt   \n",
       "4  [Alexander Alekhine, Alekhine Memorial, Alekhi...  Alexander Alekhine   \n",
       "\n",
       "                                           wiki_url  \\\n",
       "0                                                     \n",
       "1    https://en.wikipedia.org/wiki/Varuzhan_Akobian   \n",
       "2    https://en.wikipedia.org/wiki/Vladimir_Akopian   \n",
       "3          https://en.wikipedia.org/wiki/Lev_Alburt   \n",
       "4  https://en.wikipedia.org/wiki/Alexander_Alekhine   \n",
       "\n",
       "                                        wiki_summary  \n",
       "0                                                     \n",
       "1  Varuzhan Akobian (born November 19, 1983 in Ye...  \n",
       "2  `Vladimir Akopian (Russian: Владимир Акопян; b...  \n",
       "3  Lev Osipovich Alburt (born August 21, 1945 in ...  \n",
       "4  Alexander Alekhine (Russian: Алекса́ндр Алекса...  "
      ]
     },
     "execution_count": 77,
     "metadata": {},
     "output_type": "execute_result"
    }
   ],
   "source": [
    "gm.head()"
   ]
  },
  {
   "cell_type": "code",
   "execution_count": 91,
   "metadata": {
    "collapsed": false
   },
   "outputs": [
    {
     "data": {
      "text/plain": [
       "Int64Index([0, 5, 23, 36, 73, 83, 116, 120, 121, 124, 129, 143, 147, 172, 190,\n",
       "            204, 227],\n",
       "           dtype='int64')"
      ]
     },
     "execution_count": 91,
     "metadata": {},
     "output_type": "execute_result"
    }
   ],
   "source": [
    "gm[gm['wiki_url'] == ''].index"
   ]
  },
  {
   "cell_type": "markdown",
   "metadata": {},
   "source": [
    "# Fix for the above list"
   ]
  },
  {
   "cell_type": "code",
   "execution_count": 128,
   "metadata": {
    "collapsed": false
   },
   "outputs": [
    {
     "name": "stdout",
     "output_type": "stream",
     "text": [
      "Wang Hao\n",
      "['Wang Hao', 'Wang Hao (chess player)', 'Wang Hao (table tennis)', 'Wang Hao (racewalker)', 'Hao Wang (academic)', 'Wang Hao (footballer, born 1989)', 'Wang Hao (footballer, born 1993)', 'Wang Hao-te', 'Wang Hao (diver)', 'Wang Hao (swimmer)']\n"
     ]
    }
   ],
   "source": [
    "myloc = 227\n",
    "print(gm.iloc[myloc]['First Wiki Result'])\n",
    "print(gm.iloc[myloc]['Wiki Search Results'])"
   ]
  },
  {
   "cell_type": "markdown",
   "metadata": {},
   "source": [
    "## Fix all the Names that Don't Exactly Link Up"
   ]
  },
  {
   "cell_type": "code",
   "execution_count": 133,
   "metadata": {
    "collapsed": true
   },
   "outputs": [],
   "source": [
    "gm['Wiki Page Title'] = gm['First Wiki Result'].replace({'Michael Adams': 'Michael Adams (chess player)',\n",
    "                                'Yevgeny Alekseyev': 'Evgeny Alekseev (chess player)',\n",
    "                                'Henry Bird': 'Henry Bird (chess player)',\n",
    "                                'Robert Byrne': 'Robert Byrne (chess player)',\n",
    "                                'Mikhail Gurevich':'Mikhail Gurevich (chess player)',\n",
    "                                'Alexander Ivanov':'Alexander Ivanov (chess player)',\n",
    "                                'Li Chao': 'Li Chao (chess player)',\n",
    "                                'George Mackenzie': 'George Henry Mackenzie',\n",
    "                                'Vladimir Malakhov': 'Vladimir Malakhov (chess player)',\n",
    "                                'Frank Marshall': 'Frank Marshall (chess player)',\n",
    "                                'Tony Miles (disambiguation)': 'Tony Miles',\n",
    "                                'Peter Nielsen': 'Peter Heine Nielsen',\n",
    "                                'Igor Novikov': 'Igor Novikov (chess player)',\n",
    "                                'Michael Rohde': 'Michael Rohde (chess player)',\n",
    "                                'Ivan Sokolov': 'Ivan Sokolov (chess player)',\n",
    "                               'László Szabó': 'László Szabó (chess player)',\n",
    "                                'Wang Hao': 'Wang Hao (chess player)'})"
   ]
  },
  {
   "cell_type": "code",
   "execution_count": 134,
   "metadata": {
    "collapsed": true
   },
   "outputs": [],
   "source": [
    "gm['wiki_url'] = gm['Wiki Page Title'].apply(getlink)"
   ]
  },
  {
   "cell_type": "code",
   "execution_count": 135,
   "metadata": {
    "collapsed": true
   },
   "outputs": [],
   "source": [
    "gm['wiki_summary'] = gm['Wiki Page Title'].apply(getsummary)"
   ]
  },
  {
   "cell_type": "code",
   "execution_count": 137,
   "metadata": {
    "collapsed": true
   },
   "outputs": [],
   "source": [
    "gm.to_csv('GM_MetaData_08-08-17AM.csv')"
   ]
  },
  {
   "cell_type": "code",
   "execution_count": 160,
   "metadata": {
    "collapsed": true
   },
   "outputs": [],
   "source": [
    "def getimages(x):\n",
    "    images = wikipedia.page(x).images\n",
    "    return images"
   ]
  },
  {
   "cell_type": "code",
   "execution_count": 161,
   "metadata": {
    "collapsed": true
   },
   "outputs": [],
   "source": [
    "gm['wiki_images'] = gm['Wiki Page Title'].apply(getimages)"
   ]
  },
  {
   "cell_type": "code",
   "execution_count": 170,
   "metadata": {
    "collapsed": true
   },
   "outputs": [],
   "source": [
    "gm_clean = gm.drop(['First Wiki Result','Wikipedia Search Link','Wiki Search Results','Wikipedia Page','Wiki-FirstName','Wiki Name'], axis = 1)"
   ]
  },
  {
   "cell_type": "code",
   "execution_count": 175,
   "metadata": {
    "collapsed": true
   },
   "outputs": [],
   "source": [
    "gm_clean= gm_clean.set_index('NameForJSON')"
   ]
  },
  {
   "cell_type": "code",
   "execution_count": 176,
   "metadata": {
    "collapsed": true
   },
   "outputs": [],
   "source": [
    "gm_clean.to_csv('gm_metadata.csv')"
   ]
  },
  {
   "cell_type": "code",
   "execution_count": 177,
   "metadata": {
    "collapsed": true
   },
   "outputs": [],
   "source": [
    "gm_clean.to_json('gm_metadata.json')"
   ]
  },
  {
   "cell_type": "markdown",
   "metadata": {
    "collapsed": true
   },
   "source": [
    "# Clean up Image Files"
   ]
  },
  {
   "cell_type": "code",
   "execution_count": 2,
   "metadata": {
    "collapsed": true
   },
   "outputs": [],
   "source": [
    "gm = pd.read_json('./gm_metadata.json')"
   ]
  },
  {
   "cell_type": "code",
   "execution_count": 5,
   "metadata": {
    "collapsed": false
   },
   "outputs": [
    {
     "data": {
      "text/plain": [
       "[u'https://upload.wikimedia.org/wikipedia/commons/4/4d/Adams_rd6_4thEUIO.JPG',\n",
       " u'https://upload.wikimedia.org/wikipedia/commons/2/22/Michael_Adams_at_2013_Chess_World_Cup.png',\n",
       " u'https://upload.wikimedia.org/wikipedia/en/4/4a/Commons-logo.svg']"
      ]
     },
     "execution_count": 5,
     "metadata": {},
     "output_type": "execute_result"
    }
   ],
   "source": [
    "gm['wiki_images'][0]"
   ]
  },
  {
   "cell_type": "code",
   "execution_count": 9,
   "metadata": {
    "collapsed": true
   },
   "outputs": [],
   "source": [
    "def remove_svgs(l):\n",
    "    l = [ x for x in l if \".svg\" not in x ]\n",
    "    return l"
   ]
  },
  {
   "cell_type": "code",
   "execution_count": 12,
   "metadata": {
    "collapsed": false
   },
   "outputs": [],
   "source": [
    "gm['wiki_images'] = gm['wiki_images'].apply(remove_svgs)"
   ]
  },
  {
   "cell_type": "code",
   "execution_count": 13,
   "metadata": {
    "collapsed": true
   },
   "outputs": [],
   "source": [
    "gm.to_json('./gm_metadata.json')"
   ]
  },
  {
   "cell_type": "code",
   "execution_count": null,
   "metadata": {
    "collapsed": true
   },
   "outputs": [],
   "source": []
  }
 ],
 "metadata": {
  "anaconda-cloud": {},
  "kernelspec": {
   "display_name": "Python [conda root]",
   "language": "python",
   "name": "conda-root-py"
  },
  "language_info": {
   "codemirror_mode": {
    "name": "ipython",
    "version": 2
   },
   "file_extension": ".py",
   "mimetype": "text/x-python",
   "name": "python",
   "nbconvert_exporter": "python",
   "pygments_lexer": "ipython2",
   "version": "2.7.12"
  }
 },
 "nbformat": 4,
 "nbformat_minor": 2
}
