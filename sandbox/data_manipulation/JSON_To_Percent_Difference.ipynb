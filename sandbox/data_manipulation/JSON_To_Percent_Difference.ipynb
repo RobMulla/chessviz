{
 "cells": [
  {
   "cell_type": "markdown",
   "metadata": {},
   "source": [
    "# What We Want\n",
    "We want to manipulate the JSON files and make them so the values for heatmap and move paths show the % difference compared to other players."
   ]
  },
  {
   "cell_type": "code",
   "execution_count": 87,
   "metadata": {
    "collapsed": true
   },
   "outputs": [],
   "source": [
    "import pandas as pd\n",
    "import json\n",
    "from pandas import compat\n",
    "from pprint import pprint"
   ]
  },
  {
   "cell_type": "markdown",
   "metadata": {},
   "source": [
    "## Proof of concept - Grab all the raw moves data from one player"
   ]
  },
  {
   "cell_type": "code",
   "execution_count": 88,
   "metadata": {},
   "outputs": [],
   "source": [
    "with open('../../app/data/json/as_color/Adams.asblack_stats.json') as data_file:    \n",
    "    data = json.load(data_file)"
   ]
  },
  {
   "cell_type": "code",
   "execution_count": 61,
   "metadata": {},
   "outputs": [],
   "source": [
    "moves = data['moves']"
   ]
  },
  {
   "cell_type": "code",
   "execution_count": 66,
   "metadata": {},
   "outputs": [],
   "source": [
    "moves_df = pd.DataFrame(moves)"
   ]
  },
  {
   "cell_type": "code",
   "execution_count": 77,
   "metadata": {},
   "outputs": [
    {
     "data": {
      "text/plain": [
       "4555.0"
      ]
     },
     "execution_count": 77,
     "metadata": {},
     "output_type": "execute_result"
    }
   ],
   "source": [
    "moves_df['Bc1'].sum()"
   ]
  },
  {
   "cell_type": "code",
   "execution_count": null,
   "metadata": {
    "collapsed": true
   },
   "outputs": [],
   "source": [
    "moves_df['Bc1'].sum()"
   ]
  },
  {
   "cell_type": "code",
   "execution_count": 73,
   "metadata": {},
   "outputs": [],
   "source": [
    "moves_percentage = (moves_df/moves_df.sum())*100"
   ]
  },
  {
   "cell_type": "markdown",
   "metadata": {},
   "source": [
    "### Save as json, dropping Nan values"
   ]
  },
  {
   "cell_type": "code",
   "execution_count": 99,
   "metadata": {},
   "outputs": [],
   "source": [
    "moves_percentage.to_json('./test_move_percentage.json')"
   ]
  },
  {
   "cell_type": "code",
   "execution_count": 93,
   "metadata": {
    "scrolled": false
   },
   "outputs": [],
   "source": [
    "moves_percentage.apply(lambda x: [x.dropna()], axis=1).to_json('./test_move_percentage.json')"
   ]
  },
  {
   "cell_type": "markdown",
   "metadata": {},
   "source": [
    "# Load in every player's data to get total average"
   ]
  },
  {
   "cell_type": "code",
   "execution_count": 236,
   "metadata": {
    "collapsed": true
   },
   "outputs": [],
   "source": [
    "all_gms = ['Adams',\n",
    "    'Akobian','Akopian','Alburt','Alekhine','Alekseev','Almasi','Anand','Anderssen','Andersson','Andreikin','Aronian','Ashley',\n",
    "'Averbakh','Azmaiparashvili','Bacrot','Bareev','BecerraRivero','Beliavsky','Benjamin','Benko',\n",
    "           #'Berliner',\n",
    "           'Bernstein','Bird','Bisguier','Blackburne',\n",
    "'Blatny','Bogoljubow','Boleslavsky','Bologan','Botvinnik','Breyer','Bronstein','Browne','Bruzon','Bu','Byrne','Capablanca','Carlsen','Caruana',\n",
    "'Chiburdanidze','Chigorin','Christiansen','DeFirmian',\n",
    "           #'DeLaBourdonnais',\n",
    "           'Denker','Ding','DominguezPerez','Dreev','Dzindzichashvili','Ehlvest',\n",
    "'Eljanov','Euwe','Evans','Fedorowicz','Fine','Finegold','Fischer','Fishbein','Flohr','Gaprindashvili','Gashimov','Gelfand','Geller','Georgiev','Giri',\n",
    "'Gligoric','Goldin','GrandaZuniga','Grischuk','Gulko','Gunsberg','GurevichD','GurevichM','Harikrishna','Hort','Horwitz','Hou','Huebner','Ibragimov',\n",
    "'IllescasCordoba','Inarkiev','Ivanchuk','IvanovA','IvanovI','Ivkov','Jakovenko','Janowski','Jobava','Jussupow','Kaidanov','Kamsky','Karjakin',\n",
    "'Karpov','Kasimdzhanov','Kasparov','Kavalek','Keres','Khalifman','Kholmov','Koneru','Korchnoi','Korobov','Kosteniuk','Kotov','Kramnik',\n",
    "'Krasenkow','Krush','Kudrin','Lahno','Larsen','Lasker','Lautier','Le','Leko','Levenfish','Li','Lilienthal','Ljubojevic','Lputian','MacKenzie','Malakhov',\n",
    "'Mamedyarov','Maroczy','Marshall',\n",
    "           #'McDonnell',\n",
    "           'McShane','Mecking','Mikenas','Miles','Milov','Morozevich','Morphy','Motylev','Movsesian',\n",
    "'Muzychuk','Najdorf','Najer','Nakamura','Navara','Negi','Nepomniachtchi','Ni','Nielsen','Nikolic','Nimzowitsch','Nisipeanu','Novikov','Nunn',\n",
    "'Olafsson','Oll','Onischuk','Pachman','Paehtz','Panno','Paulsen','Petrosian',\n",
    "#'Philidor',\n",
    "           'Pillsbury','Pilnik','PolgarJ','PolgarS','PolgarZ','Polugaevsky',\n",
    "'Ponomariov','Portisch','Psakhis','Quinteros','Radjabov','Reshevsky','Reti','Ribli','Rohde','Rubinstein','Rublevsky','Saemisch','Sakaev','Salov',\n",
    "'Sasikiran','Schlechter','Seirawan','Serper','Shabalov','Shamkovich','Shirov','Short','Shulman','Smirin','Smyslov','So','Sokolov','Soltis','Spassky',\n",
    "'Speelman','Spielmann','Stahlberg','Staunton','Stefanova','Stein','Steinitz','Suetin','SultanKhan','Sutovsky','Svidler','Szabo','Taimanov','Tal',\n",
    "'Tarrasch','Tartakower','Teichmann','Timman','Tiviakov','Tkachiev','Tomashevsky','Topalov','TorreRepetto','Uhlmann','Unzicker','Ushenina',\n",
    "'VachierLagrave','Vaganian','VallejoPons','VanWely','Vitiugov','Volokitin','Waitzkin','Wang','WangH','Wei','Winawer','Wojtaszek','Wojtkiewicz',\n",
    "'Wolff','Xie','Xu','Ye','Yermolinsky','Yu','Yudasin','Zhu','Zukertort','Zvjaginsev']"
   ]
  },
  {
   "cell_type": "code",
   "execution_count": 237,
   "metadata": {},
   "outputs": [],
   "source": [
    "def load_player_moves(player):\n",
    "    filename_location_blackmoves = '../../app/data/json/as_color/{}.asblack_stats.json'.format(player)\n",
    "    with open(filename_location_blackmoves) as data_file:    \n",
    "        data = json.load(data_file)\n",
    "        moves = data['moves']\n",
    "        moves_df = pd.DataFrame(moves)\n",
    "        moves_df_black = moves_df.fillna(0)\n",
    "        moves_df_black.drop(['Bc1', 'Bf1', 'Ke1', 'Nb1', 'Ng1',\n",
    "           'Qd1', 'Ra1', 'Rh1', 'a2', 'b2', 'c2',\n",
    "           'd2', 'e2', 'f2', 'g2','h2'], axis=1)\n",
    "    filename_location_whitemoves = '../../app/data/json/as_color/{}.aswhite_stats.json'.format(player)\n",
    "    with open(filename_location_whitemoves) as data_file:    \n",
    "        data = json.load(data_file)\n",
    "        moves = data['moves']\n",
    "        moves_df = pd.DataFrame(moves)\n",
    "        moves_df_white = moves_df.fillna(0)\n",
    "        moves_df_white.drop(['Bc8', 'Bf8', 'Ke8', 'Nb8', 'Ng8',\n",
    "           'Qd8', 'Ra8', 'Rh8', 'a7', 'b7',\n",
    "           'c7', 'd7', 'e7', 'f7', 'g7', 'h7'], axis=1)\n",
    "        moves_df = pd.concat([moves_df_black, moves_df_white])\n",
    "    return moves_df"
   ]
  },
  {
   "cell_type": "code",
   "execution_count": 238,
   "metadata": {
    "collapsed": true
   },
   "outputs": [],
   "source": [
    "def average_by_col(df):\n",
    "    df = (df/df.sum())*100\n",
    "    return df"
   ]
  },
  {
   "cell_type": "code",
   "execution_count": 239,
   "metadata": {},
   "outputs": [],
   "source": [
    "# Setup Dataframe\n",
    "combined_moves = pd.DataFrame()\n",
    "\n",
    "for player in all_gms:\n",
    "    moves = load_player_moves(player)\n",
    "    combined_moves = pd.concat([combined_moves,moves]).groupby(level=0).sum()\n",
    "    #print(player)\n",
    "    #print(combined_moves.head(1))"
   ]
  },
  {
   "cell_type": "code",
   "execution_count": 240,
   "metadata": {
    "collapsed": true
   },
   "outputs": [],
   "source": [
    "combined_moves_average = average_by_col(combined_moves)"
   ]
  },
  {
   "cell_type": "code",
   "execution_count": 242,
   "metadata": {},
   "outputs": [
    {
     "data": {
      "text/html": [
       "<div>\n",
       "<style>\n",
       "    .dataframe thead tr:only-child th {\n",
       "        text-align: right;\n",
       "    }\n",
       "\n",
       "    .dataframe thead th {\n",
       "        text-align: left;\n",
       "    }\n",
       "\n",
       "    .dataframe tbody tr th {\n",
       "        vertical-align: top;\n",
       "    }\n",
       "</style>\n",
       "<table border=\"1\" class=\"dataframe\">\n",
       "  <thead>\n",
       "    <tr style=\"text-align: right;\">\n",
       "      <th></th>\n",
       "      <th>Bc1</th>\n",
       "      <th>Bc8</th>\n",
       "      <th>Bf1</th>\n",
       "      <th>Bf8</th>\n",
       "      <th>Ke1</th>\n",
       "      <th>Ke8</th>\n",
       "      <th>Nb1</th>\n",
       "      <th>Nb8</th>\n",
       "      <th>Ng1</th>\n",
       "      <th>Ng8</th>\n",
       "      <th>...</th>\n",
       "      <th>d2</th>\n",
       "      <th>d7</th>\n",
       "      <th>e2</th>\n",
       "      <th>e7</th>\n",
       "      <th>f2</th>\n",
       "      <th>f7</th>\n",
       "      <th>g2</th>\n",
       "      <th>g7</th>\n",
       "      <th>h2</th>\n",
       "      <th>h7</th>\n",
       "    </tr>\n",
       "  </thead>\n",
       "  <tbody>\n",
       "    <tr>\n",
       "      <th>a1-a2</th>\n",
       "      <td>0.0</td>\n",
       "      <td>0.0</td>\n",
       "      <td>0.0</td>\n",
       "      <td>0.0</td>\n",
       "      <td>0.077931</td>\n",
       "      <td>0.004356</td>\n",
       "      <td>0.0</td>\n",
       "      <td>0.0</td>\n",
       "      <td>0.0</td>\n",
       "      <td>0.0</td>\n",
       "      <td>...</td>\n",
       "      <td>0.000176</td>\n",
       "      <td>0.000173</td>\n",
       "      <td>0.0</td>\n",
       "      <td>0.000326</td>\n",
       "      <td>0.000513</td>\n",
       "      <td>0.000603</td>\n",
       "      <td>0.001048</td>\n",
       "      <td>0.000762</td>\n",
       "      <td>0.000256</td>\n",
       "      <td>0.000271</td>\n",
       "    </tr>\n",
       "    <tr>\n",
       "      <th>a1-a3</th>\n",
       "      <td>0.0</td>\n",
       "      <td>0.0</td>\n",
       "      <td>0.0</td>\n",
       "      <td>0.0</td>\n",
       "      <td>0.000000</td>\n",
       "      <td>0.000000</td>\n",
       "      <td>0.0</td>\n",
       "      <td>0.0</td>\n",
       "      <td>0.0</td>\n",
       "      <td>0.0</td>\n",
       "      <td>...</td>\n",
       "      <td>0.000000</td>\n",
       "      <td>0.000173</td>\n",
       "      <td>0.0</td>\n",
       "      <td>0.000163</td>\n",
       "      <td>0.000000</td>\n",
       "      <td>0.000000</td>\n",
       "      <td>0.000262</td>\n",
       "      <td>0.000000</td>\n",
       "      <td>0.000000</td>\n",
       "      <td>0.000812</td>\n",
       "    </tr>\n",
       "    <tr>\n",
       "      <th>a1-a4</th>\n",
       "      <td>0.0</td>\n",
       "      <td>0.0</td>\n",
       "      <td>0.0</td>\n",
       "      <td>0.0</td>\n",
       "      <td>0.000000</td>\n",
       "      <td>0.000000</td>\n",
       "      <td>0.0</td>\n",
       "      <td>0.0</td>\n",
       "      <td>0.0</td>\n",
       "      <td>0.0</td>\n",
       "      <td>...</td>\n",
       "      <td>0.000000</td>\n",
       "      <td>0.000000</td>\n",
       "      <td>0.0</td>\n",
       "      <td>0.000163</td>\n",
       "      <td>0.000000</td>\n",
       "      <td>0.000000</td>\n",
       "      <td>0.000000</td>\n",
       "      <td>0.000000</td>\n",
       "      <td>0.000256</td>\n",
       "      <td>0.000812</td>\n",
       "    </tr>\n",
       "    <tr>\n",
       "      <th>a1-a5</th>\n",
       "      <td>0.0</td>\n",
       "      <td>0.0</td>\n",
       "      <td>0.0</td>\n",
       "      <td>0.0</td>\n",
       "      <td>0.000000</td>\n",
       "      <td>0.000000</td>\n",
       "      <td>0.0</td>\n",
       "      <td>0.0</td>\n",
       "      <td>0.0</td>\n",
       "      <td>0.0</td>\n",
       "      <td>...</td>\n",
       "      <td>0.000000</td>\n",
       "      <td>0.000173</td>\n",
       "      <td>0.0</td>\n",
       "      <td>0.000163</td>\n",
       "      <td>0.000000</td>\n",
       "      <td>0.000000</td>\n",
       "      <td>0.000524</td>\n",
       "      <td>0.000000</td>\n",
       "      <td>0.001026</td>\n",
       "      <td>0.000812</td>\n",
       "    </tr>\n",
       "    <tr>\n",
       "      <th>a1-a6</th>\n",
       "      <td>0.0</td>\n",
       "      <td>0.0</td>\n",
       "      <td>0.0</td>\n",
       "      <td>0.0</td>\n",
       "      <td>0.000000</td>\n",
       "      <td>0.000000</td>\n",
       "      <td>0.0</td>\n",
       "      <td>0.0</td>\n",
       "      <td>0.0</td>\n",
       "      <td>0.0</td>\n",
       "      <td>...</td>\n",
       "      <td>0.000000</td>\n",
       "      <td>0.000000</td>\n",
       "      <td>0.0</td>\n",
       "      <td>0.000490</td>\n",
       "      <td>0.000000</td>\n",
       "      <td>0.000302</td>\n",
       "      <td>0.000524</td>\n",
       "      <td>0.000000</td>\n",
       "      <td>0.000256</td>\n",
       "      <td>0.000541</td>\n",
       "    </tr>\n",
       "  </tbody>\n",
       "</table>\n",
       "<p>5 rows × 32 columns</p>\n",
       "</div>"
      ],
      "text/plain": [
       "       Bc1  Bc8  Bf1  Bf8       Ke1       Ke8  Nb1  Nb8  Ng1  Ng8    ...     \\\n",
       "a1-a2  0.0  0.0  0.0  0.0  0.077931  0.004356  0.0  0.0  0.0  0.0    ...      \n",
       "a1-a3  0.0  0.0  0.0  0.0  0.000000  0.000000  0.0  0.0  0.0  0.0    ...      \n",
       "a1-a4  0.0  0.0  0.0  0.0  0.000000  0.000000  0.0  0.0  0.0  0.0    ...      \n",
       "a1-a5  0.0  0.0  0.0  0.0  0.000000  0.000000  0.0  0.0  0.0  0.0    ...      \n",
       "a1-a6  0.0  0.0  0.0  0.0  0.000000  0.000000  0.0  0.0  0.0  0.0    ...      \n",
       "\n",
       "             d2        d7   e2        e7        f2        f7        g2  \\\n",
       "a1-a2  0.000176  0.000173  0.0  0.000326  0.000513  0.000603  0.001048   \n",
       "a1-a3  0.000000  0.000173  0.0  0.000163  0.000000  0.000000  0.000262   \n",
       "a1-a4  0.000000  0.000000  0.0  0.000163  0.000000  0.000000  0.000000   \n",
       "a1-a5  0.000000  0.000173  0.0  0.000163  0.000000  0.000000  0.000524   \n",
       "a1-a6  0.000000  0.000000  0.0  0.000490  0.000000  0.000302  0.000524   \n",
       "\n",
       "             g7        h2        h7  \n",
       "a1-a2  0.000762  0.000256  0.000271  \n",
       "a1-a3  0.000000  0.000000  0.000812  \n",
       "a1-a4  0.000000  0.000256  0.000812  \n",
       "a1-a5  0.000000  0.001026  0.000812  \n",
       "a1-a6  0.000000  0.000256  0.000541  \n",
       "\n",
       "[5 rows x 32 columns]"
      ]
     },
     "execution_count": 242,
     "metadata": {},
     "output_type": "execute_result"
    }
   ],
   "source": [
    "combined_moves_average.head()"
   ]
  },
  {
   "cell_type": "code",
   "execution_count": 243,
   "metadata": {
    "collapsed": true
   },
   "outputs": [],
   "source": [
    "short_list = ['Adams','Akobian']"
   ]
  },
  {
   "cell_type": "code",
   "execution_count": 268,
   "metadata": {},
   "outputs": [],
   "source": [
    "def movepct_vs_everyone(player):\n",
    "    moves = load_player_moves(player)\n",
    "    ave = average_by_col(moves)\n",
    "    ave_vs_group = ave - combined_moves_average\n",
    "    ave_vs_group_dict = ave_vs_group.to_dict()\n",
    "    my_dict = {\"moves\": ave_vs_group_dict}\n",
    "    pd.DataFrame(my_dict).to_json('./player_vs_jsons/{}.movepct_vs_group.json'.format(player))"
   ]
  },
  {
   "cell_type": "code",
   "execution_count": 270,
   "metadata": {},
   "outputs": [],
   "source": [
    "for player in all_gms:\n",
    "    movepct_vs_everyone(player)"
   ]
  },
  {
   "cell_type": "code",
   "execution_count": 273,
   "metadata": {},
   "outputs": [
    {
     "data": {
      "text/plain": [
       "Bc1    0.036987\n",
       "Bc8    0.046144\n",
       "Bf1    0.676744\n",
       "Bf8    0.066564\n",
       "Ke1    0.021668\n",
       "Ke8    0.030393\n",
       "Nb1    0.229527\n",
       "Nb8    0.051501\n",
       "Ng1    0.102112\n",
       "Ng8    0.133088\n",
       "Qd1    0.088432\n",
       "Qd8    0.125922\n",
       "Ra1    0.099023\n",
       "Ra8    0.049713\n",
       "Rh1    0.138481\n",
       "Rh8    0.046260\n",
       "a2     0.031728\n",
       "a7     0.057595\n",
       "b2     0.115812\n",
       "b7     0.081781\n",
       "c2     0.724422\n",
       "c7     0.042008\n",
       "d2     0.081799\n",
       "d7     0.187541\n",
       "e2     0.037988\n",
       "e7     0.056754\n",
       "f2     0.103433\n",
       "f7     0.060423\n",
       "g2     0.031545\n",
       "g7     0.064495\n",
       "h2     0.054599\n",
       "h7     0.029518\n",
       "dtype: float64"
      ]
     },
     "execution_count": 273,
     "metadata": {},
     "output_type": "execute_result"
    }
   ],
   "source": [
    "ave_vs_group.max()"
   ]
  },
  {
   "cell_type": "code",
   "execution_count": null,
   "metadata": {
    "collapsed": true
   },
   "outputs": [],
   "source": []
  }
 ],
 "metadata": {
  "kernelspec": {
   "display_name": "Python [conda root]",
   "language": "python",
   "name": "conda-root-py"
  },
  "language_info": {
   "codemirror_mode": {
    "name": "ipython",
    "version": 3
   },
   "file_extension": ".py",
   "mimetype": "text/x-python",
   "name": "python",
   "nbconvert_exporter": "python",
   "pygments_lexer": "ipython3",
   "version": "3.6.1"
  }
 },
 "nbformat": 4,
 "nbformat_minor": 2
}
