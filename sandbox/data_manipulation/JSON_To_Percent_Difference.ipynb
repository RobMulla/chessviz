{
 "cells": [
  {
   "cell_type": "markdown",
   "metadata": {},
   "source": [
    "# What We Want\n",
    "We want to manipulate the JSON files and make them so the values for heatmap and move paths show the % difference compared to other players."
   ]
  },
  {
   "cell_type": "code",
   "execution_count": 87,
   "metadata": {
    "collapsed": true
   },
   "outputs": [],
   "source": [
    "import pandas as pd\n",
    "import json\n",
    "from pandas import compat\n",
    "from pprint import pprint"
   ]
  },
  {
   "cell_type": "markdown",
   "metadata": {},
   "source": [
    "## Proof of concept - Grab all the raw moves data from one player"
   ]
  },
  {
   "cell_type": "code",
   "execution_count": 88,
   "metadata": {},
   "outputs": [],
   "source": [
    "with open('../../app/data/json/as_color/Adams.asblack_stats.json') as data_file:    \n",
    "    data = json.load(data_file)"
   ]
  },
  {
   "cell_type": "code",
   "execution_count": 61,
   "metadata": {},
   "outputs": [],
   "source": [
    "moves = data['moves']"
   ]
  },
  {
   "cell_type": "code",
   "execution_count": 66,
   "metadata": {},
   "outputs": [],
   "source": [
    "moves_df = pd.DataFrame(moves)"
   ]
  },
  {
   "cell_type": "code",
   "execution_count": 77,
   "metadata": {},
   "outputs": [
    {
     "data": {
      "text/plain": [
       "4555.0"
      ]
     },
     "execution_count": 77,
     "metadata": {},
     "output_type": "execute_result"
    }
   ],
   "source": [
    "moves_df['Bc1'].sum()"
   ]
  },
  {
   "cell_type": "code",
   "execution_count": null,
   "metadata": {
    "collapsed": true
   },
   "outputs": [],
   "source": [
    "moves_df['Bc1'].sum()"
   ]
  },
  {
   "cell_type": "code",
   "execution_count": 73,
   "metadata": {},
   "outputs": [],
   "source": [
    "moves_percentage = (moves_df/moves_df.sum())*100"
   ]
  },
  {
   "cell_type": "markdown",
   "metadata": {},
   "source": [
    "### Save as json, dropping Nan values"
   ]
  },
  {
   "cell_type": "code",
   "execution_count": 99,
   "metadata": {},
   "outputs": [],
   "source": [
    "moves_percentage.to_json('./test_move_percentage.json')"
   ]
  },
  {
   "cell_type": "code",
   "execution_count": 93,
   "metadata": {
    "scrolled": false
   },
   "outputs": [],
   "source": [
    "moves_percentage.apply(lambda x: [x.dropna()], axis=1).to_json('./test_move_percentage.json')"
   ]
  },
  {
   "cell_type": "markdown",
   "metadata": {},
   "source": [
    "# Load in every player's data to get total average"
   ]
  },
  {
   "cell_type": "code",
   "execution_count": 236,
   "metadata": {
    "collapsed": true
   },
   "outputs": [],
   "source": [
    "all_gms = ['Adams',\n",
    "    'Akobian','Akopian','Alburt','Alekhine','Alekseev','Almasi','Anand','Anderssen','Andersson','Andreikin','Aronian','Ashley',\n",
    "'Averbakh','Azmaiparashvili','Bacrot','Bareev','BecerraRivero','Beliavsky','Benjamin','Benko',\n",
    "           #'Berliner',\n",
    "           'Bernstein','Bird','Bisguier','Blackburne',\n",
    "'Blatny','Bogoljubow','Boleslavsky','Bologan','Botvinnik','Breyer','Bronstein','Browne','Bruzon','Bu','Byrne','Capablanca','Carlsen','Caruana',\n",
    "'Chiburdanidze','Chigorin','Christiansen','DeFirmian',\n",
    "           #'DeLaBourdonnais',\n",
    "           'Denker','Ding','DominguezPerez','Dreev','Dzindzichashvili','Ehlvest',\n",
    "'Eljanov','Euwe','Evans','Fedorowicz','Fine','Finegold','Fischer','Fishbein','Flohr','Gaprindashvili','Gashimov','Gelfand','Geller','Georgiev','Giri',\n",
    "'Gligoric','Goldin','GrandaZuniga','Grischuk','Gulko','Gunsberg','GurevichD','GurevichM','Harikrishna','Hort','Horwitz','Hou','Huebner','Ibragimov',\n",
    "'IllescasCordoba','Inarkiev','Ivanchuk','IvanovA','IvanovI','Ivkov','Jakovenko','Janowski','Jobava','Jussupow','Kaidanov','Kamsky','Karjakin',\n",
    "'Karpov','Kasimdzhanov','Kasparov','Kavalek','Keres','Khalifman','Kholmov','Koneru','Korchnoi','Korobov','Kosteniuk','Kotov','Kramnik',\n",
    "'Krasenkow','Krush','Kudrin','Lahno','Larsen','Lasker','Lautier','Le','Leko','Levenfish','Li','Lilienthal','Ljubojevic','Lputian','MacKenzie','Malakhov',\n",
    "'Mamedyarov','Maroczy','Marshall',\n",
    "           #'McDonnell',\n",
    "           'McShane','Mecking','Mikenas','Miles','Milov','Morozevich','Morphy','Motylev','Movsesian',\n",
    "'Muzychuk','Najdorf','Najer','Nakamura','Navara','Negi','Nepomniachtchi','Ni','Nielsen','Nikolic','Nimzowitsch','Nisipeanu','Novikov','Nunn',\n",
    "'Olafsson','Oll','Onischuk','Pachman','Paehtz','Panno','Paulsen','Petrosian',\n",
    "#'Philidor',\n",
    "           'Pillsbury','Pilnik','PolgarJ','PolgarS','PolgarZ','Polugaevsky',\n",
    "'Ponomariov','Portisch','Psakhis','Quinteros','Radjabov','Reshevsky','Reti','Ribli','Rohde','Rubinstein','Rublevsky','Saemisch','Sakaev','Salov',\n",
    "'Sasikiran','Schlechter','Seirawan','Serper','Shabalov','Shamkovich','Shirov','Short','Shulman','Smirin','Smyslov','So','Sokolov','Soltis','Spassky',\n",
    "'Speelman','Spielmann','Stahlberg','Staunton','Stefanova','Stein','Steinitz','Suetin','SultanKhan','Sutovsky','Svidler','Szabo','Taimanov','Tal',\n",
    "'Tarrasch','Tartakower','Teichmann','Timman','Tiviakov','Tkachiev','Tomashevsky','Topalov','TorreRepetto','Uhlmann','Unzicker','Ushenina',\n",
    "'VachierLagrave','Vaganian','VallejoPons','VanWely','Vitiugov','Volokitin','Waitzkin','Wang','WangH','Wei','Winawer','Wojtaszek','Wojtkiewicz',\n",
    "'Wolff','Xie','Xu','Ye','Yermolinsky','Yu','Yudasin','Zhu','Zukertort','Zvjaginsev']"
   ]
  },
  {
   "cell_type": "code",
   "execution_count": 237,
   "metadata": {},
   "outputs": [],
   "source": [
    "def load_player_moves(player):\n",
    "    filename_location_blackmoves = '../../app/data/json/as_color/{}.asblack_stats.json'.format(player)\n",
    "    with open(filename_location_blackmoves) as data_file:    \n",
    "        data = json.load(data_file)\n",
    "        moves = data['moves']\n",
    "        moves_df = pd.DataFrame(moves)\n",
    "        moves_df_black = moves_df.fillna(0)\n",
    "        moves_df_black.drop(['Bc1', 'Bf1', 'Ke1', 'Nb1', 'Ng1',\n",
    "           'Qd1', 'Ra1', 'Rh1', 'a2', 'b2', 'c2',\n",
    "           'd2', 'e2', 'f2', 'g2','h2'], axis=1)\n",
    "    filename_location_whitemoves = '../../app/data/json/as_color/{}.aswhite_stats.json'.format(player)\n",
    "    with open(filename_location_whitemoves) as data_file:    \n",
    "        data = json.load(data_file)\n",
    "        moves = data['moves']\n",
    "        moves_df = pd.DataFrame(moves)\n",
    "        moves_df_white = moves_df.fillna(0)\n",
    "        moves_df_white.drop(['Bc8', 'Bf8', 'Ke8', 'Nb8', 'Ng8',\n",
    "           'Qd8', 'Ra8', 'Rh8', 'a7', 'b7',\n",
    "           'c7', 'd7', 'e7', 'f7', 'g7', 'h7'], axis=1)\n",
    "        moves_df = pd.concat([moves_df_black, moves_df_white])\n",
    "    return moves_df"
   ]
  },
  {
   "cell_type": "code",
   "execution_count": 238,
   "metadata": {
    "collapsed": true
   },
   "outputs": [],
   "source": [
    "def average_by_col(df):\n",
    "    df = (df/df.sum())*100\n",
    "    return df"
   ]
  },
  {
   "cell_type": "code",
   "execution_count": 279,
   "metadata": {},
   "outputs": [],
   "source": [
    "# Setup Dataframe\n",
    "combined_moves = pd.DataFrame()\n",
    "combined_moves_average = pd.DataFrame()\n",
    "\n",
    "for player in all_gms:\n",
    "    moves = load_player_moves(player)\n",
    "    moves_average = average_by_col(moves)\n",
    "    combined_moves = pd.concat([combined_moves,moves]).groupby(level=0).sum()\n",
    "    combined_moves_average = pd.concat([combined_moves_average,moves_average]).groupby(level=0).sum()\n",
    "    #print(player)\n",
    "    #print(combined_moves.head(1))\n",
    "combined_moves_average = combined_moves_average / (len(all_gms))"
   ]
  },
  {
   "cell_type": "code",
   "execution_count": 243,
   "metadata": {
    "collapsed": true
   },
   "outputs": [],
   "source": [
    "short_list = ['Adams','Akobian']"
   ]
  },
  {
   "cell_type": "code",
   "execution_count": 281,
   "metadata": {},
   "outputs": [],
   "source": [
    "def movepct_vs_everyone(player):\n",
    "    moves = load_player_moves(player)\n",
    "    ave = average_by_col(moves)\n",
    "    ave_vs_group = ave - combined_moves_average\n",
    "    ave_vs_group_dict = ave_vs_group.to_dict()\n",
    "    my_dict = {\"moves\": ave_vs_group_dict}\n",
    "    pd.DataFrame(my_dict).to_json('./player_vs_jsons/{}.movepct_vs_group.json'.format(player))"
   ]
  },
  {
   "cell_type": "code",
   "execution_count": 282,
   "metadata": {},
   "outputs": [],
   "source": [
    "for player in all_gms:\n",
    "    movepct_vs_everyone(player)"
   ]
  }
 ],
 "metadata": {
  "kernelspec": {
   "display_name": "Python [conda root]",
   "language": "python",
   "name": "conda-root-py"
  },
  "language_info": {
   "codemirror_mode": {
    "name": "ipython",
    "version": 3
   },
   "file_extension": ".py",
   "mimetype": "text/x-python",
   "name": "python",
   "nbconvert_exporter": "python",
   "pygments_lexer": "ipython3",
   "version": "3.6.1"
  }
 },
 "nbformat": 4,
 "nbformat_minor": 2
}
